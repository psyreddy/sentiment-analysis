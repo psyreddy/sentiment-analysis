{
 "cells": [
  {
   "cell_type": "code",
   "execution_count": null,
   "metadata": {
    "collapsed": true
   },
   "outputs": [],
   "source": [
    "import matplotlib.pyplot as plt\n",
    "import numpy as np\n",
    "import utils\n",
    "import pickle\n",
    "%matplotlib inline  "
   ]
  },
  {
   "cell_type": "code",
   "execution_count": null,
   "metadata": {
    "collapsed": true
   },
   "outputs": [],
   "source": [
    "FREQ_DIST_FILE = '../train-processed-freqdist.pkl'\n",
    "BI_FREQ_DIST_FILE = '../train-processed-freqdist-bi.pkl'"
   ]
  },
  {
   "cell_type": "code",
   "execution_count": null,
   "metadata": {
    "collapsed": false
   },
   "outputs": [],
   "source": [
    "with open(FREQ_DIST_FILE, 'rb') as pkl_file:\n",
    "    freq_dist = pickle.load(pkl_file)\n",
    "unigrams = freq_dist.most_common(20)\n",
    "unigrams"
   ]
  },
  {
   "cell_type": "code",
   "execution_count": null,
   "metadata": {
    "collapsed": false
   },
   "outputs": [],
   "source": [
    "plt.figure(1, [10, 7])\n",
    "x = np.array(range(0, 40, 2))\n",
    "y = np.array([i[1] for i in unigrams])\n",
    "my_xticks = [i[0] for i in unigrams]\n",
    "plt.xticks(x, my_xticks, rotation=90)\n",
    "plt.plot(x, y)\n",
    "plt.show()"
   ]
  },
  {
   "cell_type": "code",
   "execution_count": null,
   "metadata": {
    "collapsed": false
   },
   "outputs": [],
   "source": [
    "with open(BI_FREQ_DIST_FILE, 'rb') as pkl_file:\n",
    "    freq_dist = pickle.load(pkl_file)\n",
    "bigrams = freq_dist.most_common(20)\n",
    "bigrams"
   ]
  },
  {
   "cell_type": "code",
   "execution_count": null,
   "metadata": {
    "collapsed": false
   },
   "outputs": [],
   "source": [
    "plt.figure(1, [10, 7])\n",
    "x = np.array(range(0, 40, 2))\n",
    "y = np.array([i[1] for i in bigrams])\n",
    "my_xticks = [', '.join(i[0]) for i in bigrams]\n",
    "plt.xticks(x, my_xticks, rotation=90)\n",
    "plt.plot(x, y)\n",
    "plt.show()"
   ]
  },
  {
   "cell_type": "code",
   "execution_count": null,
   "metadata": {
    "collapsed": false
   },
   "outputs": [],
   "source": [
    "with open(FREQ_DIST_FILE, 'rb') as pkl_file:\n",
    "    freq_dist = pickle.load(pkl_file)\n",
    "unigrams = freq_dist.most_common(100)\n",
    "log_ranks = np.log(range(1, 101))\n",
    "log_freqs = np.log([i[1] for i in unigrams])\n",
    "z = np.polyfit(log_ranks, log_freqs, 1)\n",
    "p = np.poly1d(z)\n",
    "p"
   ]
  },
  {
   "cell_type": "code",
   "execution_count": null,
   "metadata": {
    "collapsed": false
   },
   "outputs": [],
   "source": [
    "plt.figure(3, [8,6])\n",
    "plt.plot(log_ranks, log_freqs, 'ro')\n",
    "plt.plot(log_ranks,p(log_ranks),'b-')\n",
    "plt.xlabel('log (Rank)')\n",
    "plt.ylabel('log (Freqeuncy)')\n",
    "plt.title('Zipf\\'s Law')\n",
    "plt.show()"
   ]
  },
  {
   "cell_type": "code",
   "execution_count": null,
   "metadata": {
    "collapsed": false
   },
   "outputs": [],
   "source": [
    "classifiers = ['Baseline', 'Naive Bayes', 'MaxEnt', 'Decision Tree', 'Random Forest', 'XGBoost', 'SVM', 'MLP', 'LSTM', 'CNN', 'Ensemble']\n",
    "accuracies = [63.48, 79.68, 81.52, 68.1, 77.21, 78.72, 81.55, 81.7, 83.00, 83.34, 83.58]\n",
    "plt.figure(4, [8,6])\n",
    "plt.bar(range(len(classifiers)), accuracies, align='center', alpha=0.5)\n",
    "plt.xticks(range(len(classifiers)), classifiers, rotation=90)\n",
    "plt.ylabel('Accuracy')\n",
    "plt.title('Comparison of Various Classifiers')\n",
    "plt.ylim([0, 100])\n",
    "plt.show()"
   ]
  }
 ],
 "metadata": {
  "anaconda-cloud": {},
  "kernelspec": {
   "display_name": "Python 3",
   "language": "python",
   "name": "python3"
  },
  "language_info": {
   "codemirror_mode": {
    "name": "ipython",
    "version": 3
   },
   "file_extension": ".py",
   "mimetype": "text/x-python",
   "name": "python",
   "nbconvert_exporter": "python",
   "pygments_lexer": "ipython3",
   "version": "3.10.11"
  }
 },
 "nbformat": 4,
 "nbformat_minor": 0
}
